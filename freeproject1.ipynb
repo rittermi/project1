{
 "cells": [
  {
   "cell_type": "code",
   "execution_count": null,
   "metadata": {},
   "outputs": [],
   "source": [
    "#!/usr/bin/python\n",
    "\n",
    "# Stochastic Texts, copyright (c) 2014 Nick Montfort <nickm@nickm.com>\n",
    "# Original by Theo Lutz, 1959; translation by Helen MacCormack\n",
    "#\n",
    "# Permission to use, copy, modify, and/or distribute this software for any\n",
    "# purpose with or without fee is hereby granted, provided that the above\n",
    "# copyright notice and this permission notice appear in all copies.\n",
    "#\n",
    "# THE SOFTWARE IS PROVIDED \"AS IS\" AND THE AUTHOR DISCLAIMS ALL WARRANTIES\n",
    "# WITH REGARD TO THIS SOFTWARE INCLUDING ALL IMPLIED WARRANTIES OF\n",
    "# MERCHANTABILITY AND FITNESS. IN NO EVENT SHALL THE AUTHOR BE LIABLE FOR ANY\n",
    "# SPECIAL, DIRECT, INDIRECT, OR CONSEQUENTIAL DAMAGES OR ANY DAMAGES\n",
    "# WHATSOEVER RESULTING FROM LOSS OF USE, DATA OR PROFITS, WHETHER IN AN\n",
    "# ACTION OF CONTRACT, NEGLIGENCE OR OTHER TORTIOUS ACTION, ARISING OUT OF OR\n",
    "# IN CONNECTION WITH THE USE OR PERFORMANCE OF THIS SOFTWARE.\n",
    "#\n",
    "# Updated 31 May 2018 to add compatibility with Python 3 (Python 2 still works)\n",
    "\n",
    "from random import choice\n",
    "\n",
    "subjects = ['APPLE', 'BANANA', 'LEMON', 'DRAGONFRUIT', 'GRAPEFRUIT', 'LYCHEE',\n",
    "            'GRAPE', 'RASPBERRY', 'NECTARINE', 'KIWI', 'WATERMELON', 'STRAWBERRY', 'PEAR',\n",
    "            'MANGO', 'JACKFRUIT', 'STARFRUIT']\n",
    "predicates = ['ROTTEN', 'SWEET', 'JUICY', 'FUZZY', 'PLUMP', 'RIPE',\n",
    "              'SOUR', 'TART', 'UNRIPE', 'COLORFUL', 'FRAGRANT', 'FIRM', 'SOFT',\n",
    "              'HEAVY', 'LIGHT', 'BITTER']\n",
    "conjunctions = [' THEN ', ' NO ', ' EVERY ', '. ', '. ', '. ', '. ', '. ']\n",
    "operators = ['ANY', 'A CERTAIN', 'ONE', 'A SINGLE']\n",
    "\n",
    "def phrase():\n",
    "    text = choice(operators) + ' ' + choice(subjects)\n",
    "    if text == 'A APPLE':\n",
    "        text = 'AN APPLE'\n",
    "    return text + ' IS '\n",
    "\n",
    "print('')\n",
    "print(phrase() + choice(predicates) + choice(conjunctions) +\n",
    "       phrase() + choice(predicates) + '.')\n",
    "print('')"
   ]
  }
 ],
 "metadata": {
  "kernelspec": {
   "display_name": "Python 3",
   "language": "python",
   "name": "python3"
  },
  "language_info": {
   "codemirror_mode": {
    "name": "ipython",
    "version": 3
   },
   "file_extension": ".py",
   "mimetype": "text/x-python",
   "name": "python",
   "nbconvert_exporter": "python",
   "pygments_lexer": "ipython3",
   "version": "3.7.3"
  }
 },
 "nbformat": 4,
 "nbformat_minor": 2
}
